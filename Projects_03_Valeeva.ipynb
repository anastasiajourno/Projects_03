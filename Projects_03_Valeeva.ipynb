{
 "cells": [
  {
   "cell_type": "markdown",
   "metadata": {},
   "source": [
    "## Project Week 3 Valeeva"
   ]
  },
  {
   "cell_type": "markdown",
   "metadata": {},
   "source": [
    "## Houses in emergency condition in Sverdlovsk region, Russia\n",
    "\n",
    "\"In the comfort of your home\" sounds like a sad joke for thousands of people in Russia who are living in the emergency conditions because their houses are too old, in physical deterioration or even have survived a fire. \n",
    "\n",
    "There is a government program for the resettlement, but does it work as planned?"
   ]
  },
  {
   "cell_type": "code",
   "execution_count": 3,
   "metadata": {},
   "outputs": [],
   "source": [
    "import pandas as pd"
   ]
  },
  {
   "cell_type": "code",
   "execution_count": 4,
   "metadata": {},
   "outputs": [],
   "source": [
    "df = pd.read_csv(\"Alarm_Sverd_Clean.csv\")"
   ]
  },
  {
   "cell_type": "code",
   "execution_count": 5,
   "metadata": {},
   "outputs": [
    {
     "data": {
      "text/html": [
       "<div>\n",
       "<style scoped>\n",
       "    .dataframe tbody tr th:only-of-type {\n",
       "        vertical-align: middle;\n",
       "    }\n",
       "\n",
       "    .dataframe tbody tr th {\n",
       "        vertical-align: top;\n",
       "    }\n",
       "\n",
       "    .dataframe thead th {\n",
       "        text-align: right;\n",
       "    }\n",
       "</style>\n",
       "<table border=\"1\" class=\"dataframe\">\n",
       "  <thead>\n",
       "    <tr style=\"text-align: right;\">\n",
       "      <th></th>\n",
       "      <th>house_id</th>\n",
       "      <th>region_id</th>\n",
       "      <th>area_id</th>\n",
       "      <th>city_id</th>\n",
       "      <th>street_id</th>\n",
       "      <th>shortname_region</th>\n",
       "      <th>formalname_region</th>\n",
       "      <th>shortname_area</th>\n",
       "      <th>formalname_area</th>\n",
       "      <th>shortname_city</th>\n",
       "      <th>...</th>\n",
       "      <th>resettled_ppl_count</th>\n",
       "      <th>empty_rooms_count</th>\n",
       "      <th>empty_rooms_square</th>\n",
       "      <th>redemption_amount</th>\n",
       "      <th>planned_providing_area_square</th>\n",
       "      <th>address2</th>\n",
       "      <th>rest</th>\n",
       "      <th>rest.1</th>\n",
       "      <th>Unnamed: 72</th>\n",
       "      <th>Unnamed: 73</th>\n",
       "    </tr>\n",
       "  </thead>\n",
       "  <tbody>\n",
       "    <tr>\n",
       "      <th>0</th>\n",
       "      <td>9090614</td>\n",
       "      <td>92b30014-4d52-4e2e-892d-928142b924bf</td>\n",
       "      <td>NaN</td>\n",
       "      <td>a4ab722e-453a-4aed-bb73-728a05e2e27f</td>\n",
       "      <td>36a4e8b6-5c87-4f67-9ea1-12ac63f32939</td>\n",
       "      <td>обл</td>\n",
       "      <td>Свердловская</td>\n",
       "      <td>NaN</td>\n",
       "      <td>г. Алапаевск</td>\n",
       "      <td>г</td>\n",
       "      <td>...</td>\n",
       "      <td>NaN</td>\n",
       "      <td>NaN</td>\n",
       "      <td>NaN</td>\n",
       "      <td>NaN</td>\n",
       "      <td>NaN</td>\n",
       "      <td>обл. Свердловская</td>\n",
       "      <td>км. 123</td>\n",
       "      <td>д. 3</td>\n",
       "      <td>NaN</td>\n",
       "      <td>NaN</td>\n",
       "    </tr>\n",
       "    <tr>\n",
       "      <th>1</th>\n",
       "      <td>7784744</td>\n",
       "      <td>92b30014-4d52-4e2e-892d-928142b924bf</td>\n",
       "      <td>NaN</td>\n",
       "      <td>a4ab722e-453a-4aed-bb73-728a05e2e27f</td>\n",
       "      <td>e1112f73-1bf0-4674-87ad-0c51cb1587a0</td>\n",
       "      <td>обл</td>\n",
       "      <td>Свердловская</td>\n",
       "      <td>NaN</td>\n",
       "      <td>г. Алапаевск</td>\n",
       "      <td>г</td>\n",
       "      <td>...</td>\n",
       "      <td>NaN</td>\n",
       "      <td>1.0</td>\n",
       "      <td>27,2</td>\n",
       "      <td>NaN</td>\n",
       "      <td>NaN</td>\n",
       "      <td>обл. Свердловская</td>\n",
       "      <td>ул. 19 Партсъезда</td>\n",
       "      <td>д. 4</td>\n",
       "      <td>NaN</td>\n",
       "      <td>NaN</td>\n",
       "    </tr>\n",
       "    <tr>\n",
       "      <th>2</th>\n",
       "      <td>9111875</td>\n",
       "      <td>92b30014-4d52-4e2e-892d-928142b924bf</td>\n",
       "      <td>NaN</td>\n",
       "      <td>a4ab722e-453a-4aed-bb73-728a05e2e27f</td>\n",
       "      <td>cae37672-d796-4d18-a785-18a01ac5af29</td>\n",
       "      <td>обл</td>\n",
       "      <td>Свердловская</td>\n",
       "      <td>NaN</td>\n",
       "      <td>г. Алапаевск</td>\n",
       "      <td>г</td>\n",
       "      <td>...</td>\n",
       "      <td>NaN</td>\n",
       "      <td>NaN</td>\n",
       "      <td>NaN</td>\n",
       "      <td>NaN</td>\n",
       "      <td>NaN</td>\n",
       "      <td>обл. Свердловская</td>\n",
       "      <td>ул. 240 км</td>\n",
       "      <td>д. 1</td>\n",
       "      <td>NaN</td>\n",
       "      <td>NaN</td>\n",
       "    </tr>\n",
       "    <tr>\n",
       "      <th>3</th>\n",
       "      <td>9111876</td>\n",
       "      <td>92b30014-4d52-4e2e-892d-928142b924bf</td>\n",
       "      <td>NaN</td>\n",
       "      <td>a4ab722e-453a-4aed-bb73-728a05e2e27f</td>\n",
       "      <td>cae37672-d796-4d18-a785-18a01ac5af29</td>\n",
       "      <td>обл</td>\n",
       "      <td>Свердловская</td>\n",
       "      <td>NaN</td>\n",
       "      <td>г. Алапаевск</td>\n",
       "      <td>г</td>\n",
       "      <td>...</td>\n",
       "      <td>NaN</td>\n",
       "      <td>NaN</td>\n",
       "      <td>NaN</td>\n",
       "      <td>NaN</td>\n",
       "      <td>NaN</td>\n",
       "      <td>обл. Свердловская</td>\n",
       "      <td>ул. 240 км</td>\n",
       "      <td>д. 2</td>\n",
       "      <td>NaN</td>\n",
       "      <td>NaN</td>\n",
       "    </tr>\n",
       "    <tr>\n",
       "      <th>4</th>\n",
       "      <td>8997823</td>\n",
       "      <td>92b30014-4d52-4e2e-892d-928142b924bf</td>\n",
       "      <td>NaN</td>\n",
       "      <td>a4ab722e-453a-4aed-bb73-728a05e2e27f</td>\n",
       "      <td>00ccecac-190f-404b-ab96-b1442330248b</td>\n",
       "      <td>обл</td>\n",
       "      <td>Свердловская</td>\n",
       "      <td>NaN</td>\n",
       "      <td>г. Алапаевск</td>\n",
       "      <td>г</td>\n",
       "      <td>...</td>\n",
       "      <td>NaN</td>\n",
       "      <td>NaN</td>\n",
       "      <td>NaN</td>\n",
       "      <td>NaN</td>\n",
       "      <td>NaN</td>\n",
       "      <td>обл. Свердловская</td>\n",
       "      <td>ул. 3 Интернационала</td>\n",
       "      <td>д. 1</td>\n",
       "      <td>NaN</td>\n",
       "      <td>NaN</td>\n",
       "    </tr>\n",
       "  </tbody>\n",
       "</table>\n",
       "<p>5 rows × 74 columns</p>\n",
       "</div>"
      ],
      "text/plain": [
       "   house_id                             region_id area_id  \\\n",
       "0   9090614  92b30014-4d52-4e2e-892d-928142b924bf     NaN   \n",
       "1   7784744  92b30014-4d52-4e2e-892d-928142b924bf     NaN   \n",
       "2   9111875  92b30014-4d52-4e2e-892d-928142b924bf     NaN   \n",
       "3   9111876  92b30014-4d52-4e2e-892d-928142b924bf     NaN   \n",
       "4   8997823  92b30014-4d52-4e2e-892d-928142b924bf     NaN   \n",
       "\n",
       "                                city_id                             street_id  \\\n",
       "0  a4ab722e-453a-4aed-bb73-728a05e2e27f  36a4e8b6-5c87-4f67-9ea1-12ac63f32939   \n",
       "1  a4ab722e-453a-4aed-bb73-728a05e2e27f  e1112f73-1bf0-4674-87ad-0c51cb1587a0   \n",
       "2  a4ab722e-453a-4aed-bb73-728a05e2e27f  cae37672-d796-4d18-a785-18a01ac5af29   \n",
       "3  a4ab722e-453a-4aed-bb73-728a05e2e27f  cae37672-d796-4d18-a785-18a01ac5af29   \n",
       "4  a4ab722e-453a-4aed-bb73-728a05e2e27f  00ccecac-190f-404b-ab96-b1442330248b   \n",
       "\n",
       "  shortname_region formalname_region shortname_area formalname_area  \\\n",
       "0              обл      Свердловская            NaN    г. Алапаевск   \n",
       "1              обл      Свердловская            NaN    г. Алапаевск   \n",
       "2              обл      Свердловская            NaN    г. Алапаевск   \n",
       "3              обл      Свердловская            NaN    г. Алапаевск   \n",
       "4              обл      Свердловская            NaN    г. Алапаевск   \n",
       "\n",
       "  shortname_city  ... resettled_ppl_count empty_rooms_count  \\\n",
       "0              г  ...                 NaN               NaN   \n",
       "1              г  ...                 NaN               1.0   \n",
       "2              г  ...                 NaN               NaN   \n",
       "3              г  ...                 NaN               NaN   \n",
       "4              г  ...                 NaN               NaN   \n",
       "\n",
       "  empty_rooms_square redemption_amount planned_providing_area_square  \\\n",
       "0                NaN               NaN                           NaN   \n",
       "1               27,2               NaN                           NaN   \n",
       "2                NaN               NaN                           NaN   \n",
       "3                NaN               NaN                           NaN   \n",
       "4                NaN               NaN                           NaN   \n",
       "\n",
       "            address2                  rest rest.1 Unnamed: 72 Unnamed: 73  \n",
       "0  обл. Свердловская               км. 123   д. 3         NaN         NaN  \n",
       "1  обл. Свердловская     ул. 19 Партсъезда   д. 4         NaN         NaN  \n",
       "2  обл. Свердловская            ул. 240 км   д. 1         NaN         NaN  \n",
       "3  обл. Свердловская            ул. 240 км   д. 2         NaN         NaN  \n",
       "4  обл. Свердловская  ул. 3 Интернационала   д. 1         NaN         NaN  \n",
       "\n",
       "[5 rows x 74 columns]"
      ]
     },
     "execution_count": 5,
     "metadata": {},
     "output_type": "execute_result"
    }
   ],
   "source": [
    "df.head()"
   ]
  },
  {
   "cell_type": "markdown",
   "metadata": {},
   "source": [
    "Questions to data:\n",
    "- How many houses in emergency condition are in Sverdlovsk region? Is it a lot?\n",
    "- How many people live in them? Is it a lot? \n",
    "- additional question: which is the worst municipal district by the % of emergency houses?\n",
    "    \n",
    "- How many years does it take for a house to get into the emergency condition?\n",
    "- What are the most popular reasons?\n",
    "- How much time does it take for resettlement?\n",
    "- Does resettlement happen according to the plan?"
   ]
  },
  {
   "cell_type": "markdown",
   "metadata": {},
   "source": [
    "### Total number of houses in emergency condition in the region"
   ]
  },
  {
   "cell_type": "code",
   "execution_count": 6,
   "metadata": {},
   "outputs": [
    {
     "data": {
      "text/plain": [
       "3398"
      ]
     },
     "execution_count": 6,
     "metadata": {},
     "output_type": "execute_result"
    }
   ],
   "source": [
    "len(df)"
   ]
  },
  {
   "cell_type": "code",
   "execution_count": 8,
   "metadata": {},
   "outputs": [
    {
     "data": {
      "text/plain": [
       "(3398, 74)"
      ]
     },
     "execution_count": 8,
     "metadata": {},
     "output_type": "execute_result"
    }
   ],
   "source": [
    "df.shape"
   ]
  },
  {
   "cell_type": "markdown",
   "metadata": {},
   "source": [
    "There is a total of 3398 houses in emergency condition in Sverdlovsk region, which is right in the middle of Russia. "
   ]
  },
  {
   "cell_type": "markdown",
   "metadata": {},
   "source": [
    "### % of houses in the region that are in emergency condition"
   ]
  },
  {
   "cell_type": "code",
   "execution_count": 19,
   "metadata": {},
   "outputs": [
    {
     "data": {
      "text/plain": [
       "8"
      ]
     },
     "execution_count": 19,
     "metadata": {},
     "output_type": "execute_result"
    }
   ],
   "source": [
    "#save to a new vari\n",
    "round((len(df.index)/42210)*100)"
   ]
  },
  {
   "cell_type": "markdown",
   "metadata": {},
   "source": [
    "### total number of people living in these conditions"
   ]
  },
  {
   "cell_type": "code",
   "execution_count": 20,
   "metadata": {},
   "outputs": [
    {
     "data": {
      "text/plain": [
       "45607.0"
      ]
     },
     "execution_count": 20,
     "metadata": {},
     "output_type": "execute_result"
    }
   ],
   "source": [
    "df.residents_count.sum()"
   ]
  },
  {
   "cell_type": "markdown",
   "metadata": {},
   "source": [
    "### % of people in the region that live in emergency condition"
   ]
  },
  {
   "cell_type": "code",
   "execution_count": 22,
   "metadata": {},
   "outputs": [
    {
     "data": {
      "text/plain": [
       "1.0"
      ]
     },
     "execution_count": 22,
     "metadata": {},
     "output_type": "execute_result"
    }
   ],
   "source": [
    "round(df.residents_count.sum()/4290067*100)"
   ]
  },
  {
   "cell_type": "code",
   "execution_count": 1,
   "metadata": {},
   "outputs": [],
   "source": [
    "#df.info(verbose=True)"
   ]
  },
  {
   "cell_type": "code",
   "execution_count": 28,
   "metadata": {},
   "outputs": [
    {
     "data": {
      "text/plain": [
       "0    5/17/2018\n",
       "1    9/28/2017\n",
       "2    1/12/2004\n",
       "3    1/12/2004\n",
       "4    4/29/1980\n",
       "Name: determined_date, dtype: object"
      ]
     },
     "execution_count": 28,
     "metadata": {},
     "output_type": "execute_result"
    }
   ],
   "source": [
    "df.determined_date.head()"
   ]
  },
  {
   "cell_type": "code",
   "execution_count": 29,
   "metadata": {},
   "outputs": [
    {
     "data": {
      "text/plain": [
       "0    1911.0\n",
       "1    1951.0\n",
       "2    1965.0\n",
       "3    1955.0\n",
       "4    1930.0\n",
       "Name: exploitation_start_year, dtype: float64"
      ]
     },
     "execution_count": 29,
     "metadata": {},
     "output_type": "execute_result"
    }
   ],
   "source": [
    "df.exploitation_start_year.head()"
   ]
  },
  {
   "cell_type": "code",
   "execution_count": 32,
   "metadata": {},
   "outputs": [],
   "source": [
    "#df.determined_date.str.split(pat=\"/\")"
   ]
  },
  {
   "cell_type": "code",
   "execution_count": 35,
   "metadata": {},
   "outputs": [],
   "source": [
    "new = df.determined_date.str.split(\"/\", n = 2, expand = True)"
   ]
  },
  {
   "cell_type": "code",
   "execution_count": 37,
   "metadata": {},
   "outputs": [
    {
     "data": {
      "text/html": [
       "<div>\n",
       "<style scoped>\n",
       "    .dataframe tbody tr th:only-of-type {\n",
       "        vertical-align: middle;\n",
       "    }\n",
       "\n",
       "    .dataframe tbody tr th {\n",
       "        vertical-align: top;\n",
       "    }\n",
       "\n",
       "    .dataframe thead th {\n",
       "        text-align: right;\n",
       "    }\n",
       "</style>\n",
       "<table border=\"1\" class=\"dataframe\">\n",
       "  <thead>\n",
       "    <tr style=\"text-align: right;\">\n",
       "      <th></th>\n",
       "      <th>0</th>\n",
       "      <th>1</th>\n",
       "      <th>2</th>\n",
       "    </tr>\n",
       "  </thead>\n",
       "  <tbody>\n",
       "    <tr>\n",
       "      <th>0</th>\n",
       "      <td>5</td>\n",
       "      <td>17</td>\n",
       "      <td>2018</td>\n",
       "    </tr>\n",
       "    <tr>\n",
       "      <th>1</th>\n",
       "      <td>9</td>\n",
       "      <td>28</td>\n",
       "      <td>2017</td>\n",
       "    </tr>\n",
       "    <tr>\n",
       "      <th>2</th>\n",
       "      <td>1</td>\n",
       "      <td>12</td>\n",
       "      <td>2004</td>\n",
       "    </tr>\n",
       "    <tr>\n",
       "      <th>3</th>\n",
       "      <td>1</td>\n",
       "      <td>12</td>\n",
       "      <td>2004</td>\n",
       "    </tr>\n",
       "    <tr>\n",
       "      <th>4</th>\n",
       "      <td>4</td>\n",
       "      <td>29</td>\n",
       "      <td>1980</td>\n",
       "    </tr>\n",
       "  </tbody>\n",
       "</table>\n",
       "</div>"
      ],
      "text/plain": [
       "   0   1     2\n",
       "0  5  17  2018\n",
       "1  9  28  2017\n",
       "2  1  12  2004\n",
       "3  1  12  2004\n",
       "4  4  29  1980"
      ]
     },
     "execution_count": 37,
     "metadata": {},
     "output_type": "execute_result"
    }
   ],
   "source": [
    "new.head()"
   ]
  },
  {
   "cell_type": "code",
   "execution_count": 39,
   "metadata": {},
   "outputs": [],
   "source": [
    "df[\"determined_year\"] = new[2]"
   ]
  },
  {
   "cell_type": "code",
   "execution_count": 40,
   "metadata": {},
   "outputs": [
    {
     "data": {
      "text/plain": [
       "0    2018\n",
       "1    2017\n",
       "2    2004\n",
       "3    2004\n",
       "4    1980\n",
       "Name: 2, dtype: object"
      ]
     },
     "execution_count": 40,
     "metadata": {},
     "output_type": "execute_result"
    }
   ],
   "source": [
    "df.determined_year.head()"
   ]
  },
  {
   "cell_type": "code",
   "execution_count": 46,
   "metadata": {},
   "outputs": [],
   "source": [
    "df = df.dropna(subset=['determined_year'])"
   ]
  },
  {
   "cell_type": "code",
   "execution_count": 47,
   "metadata": {},
   "outputs": [],
   "source": [
    "df.determined_year = df.determined_year.astype(int)"
   ]
  },
  {
   "cell_type": "code",
   "execution_count": 10,
   "metadata": {},
   "outputs": [
    {
     "data": {
      "text/plain": [
       "0       1911.0\n",
       "1       1951.0\n",
       "2       1965.0\n",
       "3       1955.0\n",
       "4       1930.0\n",
       "         ...  \n",
       "3393    1958.0\n",
       "3394    1975.0\n",
       "3395    1960.0\n",
       "3396    1962.0\n",
       "3397    1960.0\n",
       "Name: exploitation_start_year, Length: 3398, dtype: float64"
      ]
     },
     "execution_count": 10,
     "metadata": {},
     "output_type": "execute_result"
    }
   ],
   "source": [
    "df.exploitation_start_year"
   ]
  },
  {
   "cell_type": "code",
   "execution_count": 48,
   "metadata": {},
   "outputs": [],
   "source": [
    "df['exploitation']=(df.determined_year-df.exploitation_start_year)"
   ]
  },
  {
   "cell_type": "markdown",
   "metadata": {},
   "source": [
    "## On average, houses have been in use for 61 years before they are determined as emergency housing."
   ]
  },
  {
   "cell_type": "code",
   "execution_count": 52,
   "metadata": {},
   "outputs": [
    {
     "data": {
      "text/plain": [
       "61.0"
      ]
     },
     "execution_count": 52,
     "metadata": {},
     "output_type": "execute_result"
    }
   ],
   "source": [
    "df['exploitation'].median()"
   ]
  },
  {
   "cell_type": "markdown",
   "metadata": {},
   "source": [
    "### there are, however, some outliers, such as the oldest house which is more than 200 years old..."
   ]
  },
  {
   "cell_type": "code",
   "execution_count": 53,
   "metadata": {},
   "outputs": [
    {
     "data": {
      "text/plain": [
       "204.0"
      ]
     },
     "execution_count": 53,
     "metadata": {},
     "output_type": "execute_result"
    }
   ],
   "source": [
    "df['exploitation'].max()"
   ]
  },
  {
   "cell_type": "code",
   "execution_count": 56,
   "metadata": {},
   "outputs": [],
   "source": [
    "pd.set_option('display.max_columns', None)"
   ]
  },
  {
   "cell_type": "code",
   "execution_count": 57,
   "metadata": {},
   "outputs": [
    {
     "data": {
      "text/html": [
       "<div>\n",
       "<style scoped>\n",
       "    .dataframe tbody tr th:only-of-type {\n",
       "        vertical-align: middle;\n",
       "    }\n",
       "\n",
       "    .dataframe tbody tr th {\n",
       "        vertical-align: top;\n",
       "    }\n",
       "\n",
       "    .dataframe thead th {\n",
       "        text-align: right;\n",
       "    }\n",
       "</style>\n",
       "<table border=\"1\" class=\"dataframe\">\n",
       "  <thead>\n",
       "    <tr style=\"text-align: right;\">\n",
       "      <th></th>\n",
       "      <th>house_id</th>\n",
       "      <th>region_id</th>\n",
       "      <th>area_id</th>\n",
       "      <th>city_id</th>\n",
       "      <th>street_id</th>\n",
       "      <th>shortname_region</th>\n",
       "      <th>formalname_region</th>\n",
       "      <th>shortname_area</th>\n",
       "      <th>formalname_area</th>\n",
       "      <th>shortname_city</th>\n",
       "      <th>formalname_city</th>\n",
       "      <th>shortname_street</th>\n",
       "      <th>formalname_street</th>\n",
       "      <th>house_number</th>\n",
       "      <th>building</th>\n",
       "      <th>block</th>\n",
       "      <th>letter</th>\n",
       "      <th>address</th>\n",
       "      <th>houseguid</th>\n",
       "      <th>cadastral_number</th>\n",
       "      <th>cadastral_registration_date</th>\n",
       "      <th>stage</th>\n",
       "      <th>built_year</th>\n",
       "      <th>exploitation_start_year</th>\n",
       "      <th>project_type</th>\n",
       "      <th>house_type</th>\n",
       "      <th>floor_count_max</th>\n",
       "      <th>floor_count_min</th>\n",
       "      <th>entrance_count</th>\n",
       "      <th>residents_count</th>\n",
       "      <th>area_total</th>\n",
       "      <th>area_residential</th>\n",
       "      <th>area_non_residential</th>\n",
       "      <th>area_common_property</th>\n",
       "      <th>area_land</th>\n",
       "      <th>monument_status</th>\n",
       "      <th>monument_document_date</th>\n",
       "      <th>monument_document_number</th>\n",
       "      <th>deterioration_total</th>\n",
       "      <th>determined_date</th>\n",
       "      <th>floor_type</th>\n",
       "      <th>wall_material</th>\n",
       "      <th>alarm_reason</th>\n",
       "      <th>alarm_reason_other</th>\n",
       "      <th>alarm_document_number</th>\n",
       "      <th>alarm_document_date</th>\n",
       "      <th>alarm_has_file</th>\n",
       "      <th>exp_name</th>\n",
       "      <th>exp_document_number</th>\n",
       "      <th>exp_document_date</th>\n",
       "      <th>exp_has_file</th>\n",
       "      <th>commission_document_number</th>\n",
       "      <th>commission_document_date</th>\n",
       "      <th>commission_has_file</th>\n",
       "      <th>further_use</th>\n",
       "      <th>decision_deadline_date</th>\n",
       "      <th>planned_resettlement_date</th>\n",
       "      <th>actual_resettlement_date</th>\n",
       "      <th>planned_demolition_date</th>\n",
       "      <th>planned_rooms_count</th>\n",
       "      <th>planned_rooms_square</th>\n",
       "      <th>planned_ppl_count</th>\n",
       "      <th>resettled_rooms_count</th>\n",
       "      <th>resettled_rooms_square</th>\n",
       "      <th>resettled_ppl_count</th>\n",
       "      <th>empty_rooms_count</th>\n",
       "      <th>empty_rooms_square</th>\n",
       "      <th>redemption_amount</th>\n",
       "      <th>planned_providing_area_square</th>\n",
       "      <th>address2</th>\n",
       "      <th>rest</th>\n",
       "      <th>rest.1</th>\n",
       "      <th>Unnamed: 72</th>\n",
       "      <th>Unnamed: 73</th>\n",
       "      <th>determined_year</th>\n",
       "      <th>exploitation</th>\n",
       "    </tr>\n",
       "  </thead>\n",
       "  <tbody>\n",
       "    <tr>\n",
       "      <th>1152</th>\n",
       "      <td>8927972</td>\n",
       "      <td>92b30014-4d52-4e2e-892d-928142b924bf</td>\n",
       "      <td>NaN</td>\n",
       "      <td>4a90bd67-7682-4012-a0c5-09865b9d08a0</td>\n",
       "      <td>f34a5290-2b18-4649-a8ec-acf63bca8948</td>\n",
       "      <td>обл</td>\n",
       "      <td>Свердловская</td>\n",
       "      <td>NaN</td>\n",
       "      <td>г. Ирбит</td>\n",
       "      <td>г</td>\n",
       "      <td>Ирбит</td>\n",
       "      <td>ул</td>\n",
       "      <td>Ленина</td>\n",
       "      <td>19</td>\n",
       "      <td>NaN</td>\n",
       "      <td>NaN</td>\n",
       "      <td>NaN</td>\n",
       "      <td>обл. Свердловская, г. Ирбит, ул. Ленина, д. 19</td>\n",
       "      <td>32d0e7de-079b-6e0a-b2cc-159ec5fa7b93</td>\n",
       "      <td>66:44:0101005:93</td>\n",
       "      <td>10/5/2005</td>\n",
       "      <td>Эксплуатируемый</td>\n",
       "      <td>1808.0</td>\n",
       "      <td>1808.0</td>\n",
       "      <td>NaN</td>\n",
       "      <td>Многоквартирный дом</td>\n",
       "      <td>2.0</td>\n",
       "      <td>2.0</td>\n",
       "      <td>2.0</td>\n",
       "      <td>87.0</td>\n",
       "      <td>1730,5</td>\n",
       "      <td>1244,7</td>\n",
       "      <td>0</td>\n",
       "      <td>485,8</td>\n",
       "      <td>1601</td>\n",
       "      <td>Не имеется</td>\n",
       "      <td>NaN</td>\n",
       "      <td>NaN</td>\n",
       "      <td>77</td>\n",
       "      <td>12/10/2012</td>\n",
       "      <td>NaN</td>\n",
       "      <td>NaN</td>\n",
       "      <td>Физический износ</td>\n",
       "      <td>NaN</td>\n",
       "      <td>1196-а</td>\n",
       "      <td>5/23/2013</td>\n",
       "      <td>Имеется</td>\n",
       "      <td>ООО \"Актив Проект\"</td>\n",
       "      <td>0362300228312000053-0198328-01</td>\n",
       "      <td>12/10/2012</td>\n",
       "      <td>Имеется</td>\n",
       "      <td>29</td>\n",
       "      <td>5/23/2013</td>\n",
       "      <td>Имеется</td>\n",
       "      <td>Снос</td>\n",
       "      <td>NaN</td>\n",
       "      <td>9/1/2025</td>\n",
       "      <td>NaN</td>\n",
       "      <td>12/31/2025</td>\n",
       "      <td>NaN</td>\n",
       "      <td>NaN</td>\n",
       "      <td>NaN</td>\n",
       "      <td>45.0</td>\n",
       "      <td>845,7</td>\n",
       "      <td>87.0</td>\n",
       "      <td>2.0</td>\n",
       "      <td>36,6</td>\n",
       "      <td>38080,36</td>\n",
       "      <td>875,11</td>\n",
       "      <td>обл. Свердловская</td>\n",
       "      <td>ул. Ленина</td>\n",
       "      <td>д. 19</td>\n",
       "      <td>NaN</td>\n",
       "      <td>NaN</td>\n",
       "      <td>2012</td>\n",
       "      <td>204.0</td>\n",
       "    </tr>\n",
       "  </tbody>\n",
       "</table>\n",
       "</div>"
      ],
      "text/plain": [
       "      house_id                             region_id area_id  \\\n",
       "1152   8927972  92b30014-4d52-4e2e-892d-928142b924bf     NaN   \n",
       "\n",
       "                                   city_id  \\\n",
       "1152  4a90bd67-7682-4012-a0c5-09865b9d08a0   \n",
       "\n",
       "                                 street_id shortname_region formalname_region  \\\n",
       "1152  f34a5290-2b18-4649-a8ec-acf63bca8948              обл      Свердловская   \n",
       "\n",
       "     shortname_area formalname_area shortname_city formalname_city  \\\n",
       "1152            NaN        г. Ирбит              г           Ирбит   \n",
       "\n",
       "     shortname_street formalname_street house_number building block letter  \\\n",
       "1152               ул            Ленина           19      NaN   NaN    NaN   \n",
       "\n",
       "                                             address  \\\n",
       "1152  обл. Свердловская, г. Ирбит, ул. Ленина, д. 19   \n",
       "\n",
       "                                 houseguid  cadastral_number  \\\n",
       "1152  32d0e7de-079b-6e0a-b2cc-159ec5fa7b93  66:44:0101005:93   \n",
       "\n",
       "     cadastral_registration_date            stage  built_year  \\\n",
       "1152                   10/5/2005  Эксплуатируемый      1808.0   \n",
       "\n",
       "      exploitation_start_year project_type           house_type  \\\n",
       "1152                   1808.0          NaN  Многоквартирный дом   \n",
       "\n",
       "      floor_count_max  floor_count_min  entrance_count  residents_count  \\\n",
       "1152              2.0              2.0             2.0             87.0   \n",
       "\n",
       "     area_total area_residential area_non_residential area_common_property  \\\n",
       "1152     1730,5           1244,7                    0                485,8   \n",
       "\n",
       "     area_land monument_status monument_document_date  \\\n",
       "1152      1601      Не имеется                    NaN   \n",
       "\n",
       "     monument_document_number deterioration_total determined_date floor_type  \\\n",
       "1152                      NaN                  77      12/10/2012        NaN   \n",
       "\n",
       "     wall_material      alarm_reason alarm_reason_other alarm_document_number  \\\n",
       "1152           NaN  Физический износ                NaN                1196-а   \n",
       "\n",
       "     alarm_document_date alarm_has_file            exp_name  \\\n",
       "1152           5/23/2013        Имеется  ООО \"Актив Проект\"   \n",
       "\n",
       "                 exp_document_number exp_document_date exp_has_file  \\\n",
       "1152  0362300228312000053-0198328-01        12/10/2012      Имеется   \n",
       "\n",
       "     commission_document_number commission_document_date commission_has_file  \\\n",
       "1152                         29                5/23/2013             Имеется   \n",
       "\n",
       "     further_use decision_deadline_date planned_resettlement_date  \\\n",
       "1152        Снос                    NaN                  9/1/2025   \n",
       "\n",
       "     actual_resettlement_date planned_demolition_date  planned_rooms_count  \\\n",
       "1152                      NaN              12/31/2025                  NaN   \n",
       "\n",
       "     planned_rooms_square  planned_ppl_count  resettled_rooms_count  \\\n",
       "1152                  NaN                NaN                   45.0   \n",
       "\n",
       "     resettled_rooms_square  resettled_ppl_count  empty_rooms_count  \\\n",
       "1152                  845,7                 87.0                2.0   \n",
       "\n",
       "     empty_rooms_square redemption_amount planned_providing_area_square  \\\n",
       "1152               36,6          38080,36                        875,11   \n",
       "\n",
       "               address2        rest rest.1 Unnamed: 72 Unnamed: 73  \\\n",
       "1152  обл. Свердловская  ул. Ленина  д. 19         NaN         NaN   \n",
       "\n",
       "      determined_year  exploitation  \n",
       "1152             2012         204.0  "
      ]
     },
     "execution_count": 57,
     "metadata": {},
     "output_type": "execute_result"
    }
   ],
   "source": [
    "df.loc[df['exploitation'] == 204]"
   ]
  },
  {
   "cell_type": "markdown",
   "metadata": {},
   "source": [
    "### or baby houses like this one which is just 1 year old but is already in emergency condition!"
   ]
  },
  {
   "cell_type": "code",
   "execution_count": 54,
   "metadata": {},
   "outputs": [
    {
     "data": {
      "text/plain": [
       "1.0"
      ]
     },
     "execution_count": 54,
     "metadata": {},
     "output_type": "execute_result"
    }
   ],
   "source": [
    "df['exploitation'].min()"
   ]
  },
  {
   "cell_type": "code",
   "execution_count": null,
   "metadata": {},
   "outputs": [],
   "source": [
    "## Here is a distribution of the age of houses that are in emergency condition"
   ]
  },
  {
   "cell_type": "code",
   "execution_count": 58,
   "metadata": {},
   "outputs": [
    {
     "data": {
      "text/plain": [
       "<matplotlib.axes._subplots.AxesSubplot at 0x118566820>"
      ]
     },
     "execution_count": 58,
     "metadata": {},
     "output_type": "execute_result"
    },
    {
     "data": {
      "image/png": "[encoded data removed]",
      "text/plain": [
       "<Figure size 432x288 with 1 Axes>"
      ]
     },
     "metadata": {
      "needs_background": "light"
     },
     "output_type": "display_data"
    }
   ],
   "source": [
    "df['exploitation'].plot(kind='hist')"
   ]
  },
  {
   "cell_type": "markdown",
   "metadata": {},
   "source": [
    "## As for the reason of the house being in emergency condition, it's mostly physical deterioration. However, fires are also a reason for 2% of the cases."
   ]
  },
  {
   "cell_type": "code",
   "execution_count": 59,
   "metadata": {},
   "outputs": [
    {
     "data": {
      "text/plain": [
       "Физический износ    1725\n",
       "Пожар                 29\n",
       "Иная                   1\n",
       "Name: alarm_reason, dtype: int64"
      ]
     },
     "execution_count": 59,
     "metadata": {},
     "output_type": "execute_result"
    }
   ],
   "source": [
    "df.alarm_reason.value_counts()"
   ]
  },
  {
   "cell_type": "code",
   "execution_count": 60,
   "metadata": {},
   "outputs": [
    {
     "data": {
      "text/plain": [
       "Физический износ    98.0\n",
       "Пожар                2.0\n",
       "Иная                 0.0\n",
       "Name: alarm_reason, dtype: float64"
      ]
     },
     "execution_count": 60,
     "metadata": {},
     "output_type": "execute_result"
    }
   ],
   "source": [
    "round(df.alarm_reason.value_counts(normalize=True)*100)"
   ]
  },
  {
   "cell_type": "markdown",
   "metadata": {},
   "source": [
    "## Resettlement"
   ]
  },
  {
   "cell_type": "code",
   "execution_count": 61,
   "metadata": {},
   "outputs": [
    {
     "data": {
      "text/plain": [
       "0    9/17/2023\n",
       "1    9/30/2024\n",
       "2          NaN\n",
       "3          NaN\n",
       "4     9/1/2025\n",
       "Name: planned_resettlement_date, dtype: object"
      ]
     },
     "execution_count": 61,
     "metadata": {},
     "output_type": "execute_result"
    }
   ],
   "source": [
    "df.planned_resettlement_date.head()"
   ]
  },
  {
   "cell_type": "code",
   "execution_count": 62,
   "metadata": {},
   "outputs": [],
   "source": [
    "df = df.dropna(subset=['planned_resettlement_date'])"
   ]
  },
  {
   "cell_type": "code",
   "execution_count": 63,
   "metadata": {},
   "outputs": [],
   "source": [
    "new = df.planned_resettlement_date.str.split(\"/\", n = 2, expand = True)"
   ]
  },
  {
   "cell_type": "code",
   "execution_count": 64,
   "metadata": {},
   "outputs": [
    {
     "data": {
      "text/html": [
       "<div>\n",
       "<style scoped>\n",
       "    .dataframe tbody tr th:only-of-type {\n",
       "        vertical-align: middle;\n",
       "    }\n",
       "\n",
       "    .dataframe tbody tr th {\n",
       "        vertical-align: top;\n",
       "    }\n",
       "\n",
       "    .dataframe thead th {\n",
       "        text-align: right;\n",
       "    }\n",
       "</style>\n",
       "<table border=\"1\" class=\"dataframe\">\n",
       "  <thead>\n",
       "    <tr style=\"text-align: right;\">\n",
       "      <th></th>\n",
       "      <th>0</th>\n",
       "      <th>1</th>\n",
       "      <th>2</th>\n",
       "    </tr>\n",
       "  </thead>\n",
       "  <tbody>\n",
       "    <tr>\n",
       "      <th>0</th>\n",
       "      <td>9</td>\n",
       "      <td>17</td>\n",
       "      <td>2023</td>\n",
       "    </tr>\n",
       "    <tr>\n",
       "      <th>1</th>\n",
       "      <td>9</td>\n",
       "      <td>30</td>\n",
       "      <td>2024</td>\n",
       "    </tr>\n",
       "    <tr>\n",
       "      <th>4</th>\n",
       "      <td>9</td>\n",
       "      <td>1</td>\n",
       "      <td>2025</td>\n",
       "    </tr>\n",
       "    <tr>\n",
       "      <th>5</th>\n",
       "      <td>9</td>\n",
       "      <td>1</td>\n",
       "      <td>2025</td>\n",
       "    </tr>\n",
       "    <tr>\n",
       "      <th>6</th>\n",
       "      <td>12</td>\n",
       "      <td>31</td>\n",
       "      <td>2022</td>\n",
       "    </tr>\n",
       "  </tbody>\n",
       "</table>\n",
       "</div>"
      ],
      "text/plain": [
       "    0   1     2\n",
       "0   9  17  2023\n",
       "1   9  30  2024\n",
       "4   9   1  2025\n",
       "5   9   1  2025\n",
       "6  12  31  2022"
      ]
     },
     "execution_count": 64,
     "metadata": {},
     "output_type": "execute_result"
    }
   ],
   "source": [
    "new.head()"
   ]
  },
  {
   "cell_type": "code",
   "execution_count": 65,
   "metadata": {},
   "outputs": [],
   "source": [
    "df[\"resettlement_year\"] = new[2]"
   ]
  },
  {
   "cell_type": "code",
   "execution_count": 67,
   "metadata": {},
   "outputs": [
    {
     "data": {
      "text/plain": [
       "0    2023\n",
       "1    2024\n",
       "4    2025\n",
       "5    2025\n",
       "6    2022\n",
       "Name: resettlement_year, dtype: object"
      ]
     },
     "execution_count": 67,
     "metadata": {},
     "output_type": "execute_result"
    }
   ],
   "source": [
    "df.resettlement_year.head()"
   ]
  },
  {
   "cell_type": "code",
   "execution_count": 68,
   "metadata": {},
   "outputs": [],
   "source": [
    "df.resettlement_year = df.resettlement_year.astype(int)"
   ]
  },
  {
   "cell_type": "code",
   "execution_count": 69,
   "metadata": {},
   "outputs": [],
   "source": [
    "df['wait_years']=(df.resettlement_year-df.determined_year)"
   ]
  },
  {
   "cell_type": "markdown",
   "metadata": {},
   "source": [
    "## On average, people wait for the resettlement for 10 years"
   ]
  },
  {
   "cell_type": "code",
   "execution_count": 70,
   "metadata": {},
   "outputs": [
    {
     "data": {
      "text/plain": [
       "10.0"
      ]
     },
     "execution_count": 70,
     "metadata": {},
     "output_type": "execute_result"
    }
   ],
   "source": [
    "df['wait_years'].median()"
   ]
  },
  {
   "cell_type": "code",
   "execution_count": 74,
   "metadata": {},
   "outputs": [
    {
     "data": {
      "text/plain": [
       "<pandas.core.groupby.generic.DataFrameGroupBy object at 0x118673820>"
      ]
     },
     "execution_count": 74,
     "metadata": {},
     "output_type": "execute_result"
    }
   ],
   "source": [
    "#df.loc[df['alarm_reason'] == 'Пожар'].groupby(by=\"resettlement_year\")"
   ]
  },
  {
   "cell_type": "code",
   "execution_count": 86,
   "metadata": {},
   "outputs": [],
   "source": [
    "df_fire = df[df['alarm_reason']=='Пожар']"
   ]
  },
  {
   "cell_type": "code",
   "execution_count": 92,
   "metadata": {},
   "outputs": [
    {
     "data": {
      "text/plain": [
       "12"
      ]
     },
     "execution_count": 92,
     "metadata": {},
     "output_type": "execute_result"
    }
   ],
   "source": [
    "#ok so our of 29 houses that were on fire I only have 12 with the filled resettlement year\n",
    "len(df_fire)"
   ]
  },
  {
   "cell_type": "code",
   "execution_count": null,
   "metadata": {},
   "outputs": [],
   "source": [
    "#we could use 0 as a replacement if this is not used throughout the dataset "
   ]
  },
  {
   "cell_type": "markdown",
   "metadata": {},
   "source": [
    "## And there are at least 6 houses that have been on fire but still waiting to be resettled!"
   ]
  },
  {
   "cell_type": "code",
   "execution_count": 99,
   "metadata": {},
   "outputs": [
    {
     "data": {
      "text/plain": [
       "6"
      ]
     },
     "execution_count": 99,
     "metadata": {},
     "output_type": "execute_result"
    }
   ],
   "source": [
    "len(df_fire[df_fire['resettlement_year']>2021])"
   ]
  },
  {
   "cell_type": "markdown",
   "metadata": {},
   "source": [
    "## Needs to be done: For those houses that have a resettlement date and it's already passed, calculate how many % have actually been resettled."
   ]
  }
 ],
 "metadata": {
  "kernelspec": {
   "display_name": "Python 3",
   "language": "python",
   "name": "python3"
  },
  "language_info": {
   "codemirror_mode": {
    "name": "ipython",
    "version": 3
   },
   "file_extension": ".py",
   "mimetype": "text/x-python",
   "name": "python",
   "nbconvert_exporter": "python",
   "pygments_lexer": "ipython3",
   "version": "3.8.3"
  }
 },
 "nbformat": 4,
 "nbformat_minor": 4
}
